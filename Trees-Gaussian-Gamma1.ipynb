{
 "cells": [
  {
   "cell_type": "code",
   "execution_count": null,
   "metadata": {},
   "outputs": [],
   "source": [
    "#imports numerical python stack\n",
    "import numpy as np\n",
    "np.__version__"
   ]
  },
  {
   "cell_type": "code",
   "execution_count": null,
   "metadata": {},
   "outputs": [],
   "source": [
    "#importing scikit-learn-image processing module\n",
    "import skimage\n",
    "skimage.__version__\n"
   ]
  },
  {
   "cell_type": "code",
   "execution_count": null,
   "metadata": {},
   "outputs": [],
   "source": [
    "#imports matplotlib sub-module of numpy\n",
    "%matplotlib inline\n",
    "import matplotlib.pyplot as pyplt"
   ]
  },
  {
   "cell_type": "code",
   "execution_count": null,
   "metadata": {},
   "outputs": [],
   "source": [
    "from skimage import data, color, io, img_as_float\n",
    "from skimage.filters import threshold_otsu\n",
    "from skimage.segmentation import clear_border\n",
    "from skimage.measure import label, regionprops\n",
    "from skimage.morphology import closing, square\n",
    "from skimage.color import label2rgb\n",
    "\n",
    "img = color.rgb2gray(io.imread('C:/Users/user/Desktop/ProjectWork/Holton_4cmpx_RGB_only/Holtonians.png'))\n",
    "img= img_as_float(img)"
   ]
  },
  {
   "cell_type": "code",
   "execution_count": null,
   "metadata": {
    "scrolled": true
   },
   "outputs": [],
   "source": [
    "from skimage.io import *\n",
    "trees=np.asarray(io.imread('C:/Users/user/Desktop/ProjectWork/Holton_4cmpx_RGB_only/Holtonians.png', cmap='Gray'))"
   ]
  },
  {
   "cell_type": "code",
   "execution_count": null,
   "metadata": {},
   "outputs": [],
   "source": [
    "#imports data submodule from scikit-learn\n",
    "from skimage import data\n",
    "#imports image data already placed in skimage working folder"
   ]
  },
  {
   "cell_type": "code",
   "execution_count": null,
   "metadata": {},
   "outputs": [],
   "source": [
    "#The pyplot 'plot' function plots a heatmap showing the intensities of the Grayscale imagery\n",
    "#imagery is converted into Grayscale, Scikit-learn can only work on images as 2D arrays (grayscale imagery)\n",
    "#Coloured images are 3D Arrays in Scikit learn\n",
    "pyplt.imshow(img, cmap='gray');"
   ]
  },
  {
   "cell_type": "code",
   "execution_count": null,
   "metadata": {},
   "outputs": [],
   "source": [
    "#from the pylab module of python everything is imported\n",
    "from pylab import *"
   ]
  },
  {
   "cell_type": "code",
   "execution_count": null,
   "metadata": {},
   "outputs": [],
   "source": [
    "from scipy.ndimage import gaussian_filter\n",
    "img = gaussian_filter(img, 1.8)\n",
    "imshow(img)\n"
   ]
  },
  {
   "cell_type": "code",
   "execution_count": null,
   "metadata": {},
   "outputs": [],
   "source": [
    "import matplotlib.patches as mpatches\n",
    "thresh = threshold_otsu(img)\n",
    "bw = closing(img > thresh, square(3))\n",
    "\n",
    "label_image = label(bw)\n",
    "image_label_overlay = label2rgb(label_image, image=img)\n",
    "\n",
    "fig, ax = plt.subplots(figsize=(10, 6))\n",
    "ax.imshow(image_label_overlay)\n",
    "for region in regionprops(img):\n",
    "    # take regions with large enough areas\n",
    "    if region.area >= 100:\n",
    "        # draw rectangle around segmented coins\n",
    "        minr, minc, maxr, maxc = region.bbox\n",
    "        rect = mpatches.Rectangle((minc, minr), maxc - minc, maxr - minr,\n",
    "                                  fill=False, edgecolor='red', linewidth=2)\n",
    "        ax.add_patch(rect)\n",
    "\n",
    "ax.set_axis_off()\n",
    "plt.tight_layout()\n",
    "plt.show()\n"
   ]
  },
  {
   "cell_type": "code",
   "execution_count": null,
   "metadata": {},
   "outputs": [],
   "source": []
  },
  {
   "cell_type": "code",
   "execution_count": null,
   "metadata": {},
   "outputs": [],
   "source": [
    "#The Filters submodule is imported\n",
    "#The imagery is then denoised using a median filter with 5x5 kernel/ structuring element\n",
    "#Pyplot shows the imagery as before and after filtering\n",
    "from skimage import filters\n",
    "trees_denoised=img_as_float(filters.median(img, selem=np.ones((5, 5))))\n",
    "f, (axo, ax1)=pyplt.subplots(1, 2, figsize=(15,5))\n",
    "ax0=imshow(img)\n",
    "ax1=imshow(trees_denoised);\n"
   ]
  },
  {
   "cell_type": "code",
   "execution_count": null,
   "metadata": {
    "scrolled": false
   },
   "outputs": [],
   "source": [
    "#The 'feature' submodule is imported\n",
    "#The canny edge detector from 'feature' is used to detect the edges of the trees\n",
    "#the result is shown, sigma adjusts the sensitivity of the the canny filter\n",
    "from skimage import feature\n",
    "edges = skimage.feature.canny(img, sigma=2)\n",
    "\n",
    "plt.imshow(edges);"
   ]
  },
  {
   "cell_type": "code",
   "execution_count": null,
   "metadata": {},
   "outputs": [],
   "source": [
    "#Numpy is part of the SciPy ecosystem, hence 'ndimage' can be called here as it is inherited by Numpy\n",
    "#'edt' is the euclidean distance transform, it is applied on the negative of the edges\n",
    "#that has the effect of flipping the background to the foreground and vice-versa\n",
    "#the distance transform is the distance to the nearest background pixel\n",
    "from scipy.ndimage import distance_transform_edt\n",
    "dt=distance_transform_edt(~edges)\n",
    "plt.imshow(dt)"
   ]
  },
  {
   "cell_type": "code",
   "execution_count": null,
   "metadata": {},
   "outputs": [],
   "source": [
    "#peak_local_max finds the local peaks each of the regions\n",
    "local_max=feature.peak_local_max(dt, indices=False, min_distance=5)\n",
    "pyplt.imshow(local_max, cmap='gray')"
   ]
  },
  {
   "cell_type": "code",
   "execution_count": null,
   "metadata": {},
   "outputs": [],
   "source": [
    "#the peaks/nodes are the origins of the watersheds\n",
    "peak_idx=feature.peak_local_max(dt, indices=True, min_distance=5)\n",
    "pyplt.plot(peak_idx[:,1], peak_idx[:,0], 'r.')\n",
    "pyplt.imshow(dt);"
   ]
  },
  {
   "cell_type": "code",
   "execution_count": null,
   "metadata": {},
   "outputs": [],
   "source": [
    "#this labels each of the nodes and its surrounding region\n",
    "from skimage import measure\n",
    "markers=measure.label(local_max)"
   ]
  },
  {
   "cell_type": "code",
   "execution_count": null,
   "metadata": {},
   "outputs": [],
   "source": [
    "#this calls the morphology and watershed sub-modules\n",
    "#the watershed function is called on the inverse of the distance-transformed map\n",
    "#this has the effect of making crests into troughs, \n",
    "#the watershed then fills from the center of the coin\n",
    "#mark boundaries is used to generate line boundaries around each of the regions\n",
    "from skimage import morphology, segmentation\n",
    "labels=morphology.watershed(-dt, markers)\n",
    "plt.imshow(segmentation.mark_boundaries(img,labels));"
   ]
  },
  {
   "cell_type": "code",
   "execution_count": null,
   "metadata": {},
   "outputs": [],
   "source": [
    "#rgb visualization can also be used on the imagery for a different perspective\n",
    "from skimage import color\n",
    "plt.imshow(color.label2rgb(labels, image=img))"
   ]
  },
  {
   "cell_type": "code",
   "execution_count": null,
   "metadata": {},
   "outputs": [],
   "source": [
    "#to merge said regions we call label2rgb we use it to show the average pixel value\n",
    "plt.imshow(color.label2rgb(labels, image=img, kind='avg'), cmap='gray');"
   ]
  },
  {
   "cell_type": "code",
   "execution_count": null,
   "metadata": {},
   "outputs": [],
   "source": [
    "#as the foreground is lighter than the background we can split\n",
    "#the background from the foreground based off of the intensities\n",
    "#each object becomes a region whose properties we can calculate and store in alist\n",
    "regions=measure.regionprops(labels, intensity_image=img)"
   ]
  },
  {
   "cell_type": "code",
   "execution_count": null,
   "metadata": {},
   "outputs": [],
   "source": [
    "#the mean intensity for each region is calculated\n",
    "region_means=[r.mean_intensity for r in regions]\n",
    "plt.hist(region_means, bins=20);\n",
    "#the histogram for each class is shown, this completes the classification"
   ]
  },
  {
   "cell_type": "code",
   "execution_count": null,
   "metadata": {},
   "outputs": [],
   "source": [
    "#The cluster module of sci-kit learn is imported, and the number of clusters is input\n",
    "from sklearn.cluster import *\n",
    "model=KMeans(n_clusters=2)\n",
    "\n",
    "region_means=np.array(region_means).reshape(-1,1)"
   ]
  },
  {
   "cell_type": "code",
   "execution_count": null,
   "metadata": {},
   "outputs": [],
   "source": [
    "#this fits the model to the means \n",
    "#and prints the location of centroid for each region\n",
    "model.fit(region_means)\n",
    "print(model.cluster_centers_)"
   ]
  },
  {
   "cell_type": "code",
   "execution_count": null,
   "metadata": {},
   "outputs": [],
   "source": [
    "#the model then predicts the label for each of the nodes\n",
    "bg_fg_labels=model.predict(region_means)\n",
    "bg_fg_labels"
   ]
  },
  {
   "cell_type": "code",
   "execution_count": null,
   "metadata": {},
   "outputs": [],
   "source": [
    "#the image must be labelled appropriately\n",
    "#The original label is copied\n",
    "#a combination of the predicted label and the different regions is used\n",
    "#to assign the nodes to either background or foreground\n",
    "#dependent on the coordinates\n",
    "classified_labels=labels.copy()\n",
    "for bg_fg, region in zip(bg_fg_labels, regions):\n",
    "    classified_labels[tuple(region.coords.T)]=bg_fg"
   ]
  },
  {
   "cell_type": "code",
   "execution_count": null,
   "metadata": {},
   "outputs": [],
   "source": [
    "#the plot of the image re-labelled by the different coordinates of each is shown\n",
    "plt.imshow(color.label2rgb(classified_labels, image=img))"
   ]
  },
  {
   "cell_type": "code",
   "execution_count": null,
   "metadata": {},
   "outputs": [],
   "source": []
  }
 ],
 "metadata": {
  "kernelspec": {
   "display_name": "Python 3",
   "language": "python",
   "name": "python3"
  },
  "language_info": {
   "codemirror_mode": {
    "name": "ipython",
    "version": 3
   },
   "file_extension": ".py",
   "mimetype": "text/x-python",
   "name": "python",
   "nbconvert_exporter": "python",
   "pygments_lexer": "ipython3",
   "version": "3.6.4"
  }
 },
 "nbformat": 4,
 "nbformat_minor": 2
}
